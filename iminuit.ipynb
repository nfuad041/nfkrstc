{
 "cells": [
  {
   "cell_type": "markdown",
   "id": "63309e5a-789e-470f-95cf-83d77d96aba5",
   "metadata": {},
   "source": [
    "# Cost functions"
   ]
  },
  {
   "cell_type": "code",
   "execution_count": 1,
   "id": "f7b6592d-8cba-4bfb-92e1-49915ad4cd23",
   "metadata": {},
   "outputs": [],
   "source": [
    "from iminuit import cost, Minuit\n",
    "import numpy as np"
   ]
  },
  {
   "cell_type": "code",
   "execution_count": 2,
   "id": "0a02a0de-6feb-4ac2-bf23-0b1ca8aaeca8",
   "metadata": {},
   "outputs": [
    {
     "data": {
      "text/plain": [
       "tuple"
      ]
     },
     "execution_count": 2,
     "metadata": {},
     "output_type": "execute_result"
    }
   ],
   "source": [
    "xr = (0,2)\n",
    "type(xr)"
   ]
  },
  {
   "cell_type": "code",
   "execution_count": 3,
   "id": "b2fc4096-fe13-4d53-9b06-6775fa8b5fc5",
   "metadata": {},
   "outputs": [],
   "source": [
    "rng = np.random.default_rng(1)\n",
    "xdata = rng.normal(1, 0.1, size=1000)"
   ]
  }
 ],
 "metadata": {
  "kernelspec": {
   "display_name": "legend-base",
   "language": "python",
   "name": "legend-base"
  },
  "language_info": {
   "codemirror_mode": {
    "name": "ipython",
    "version": 3
   },
   "file_extension": ".py",
   "mimetype": "text/x-python",
   "name": "python",
   "nbconvert_exporter": "python",
   "pygments_lexer": "ipython3",
   "version": "3.9.12"
  }
 },
 "nbformat": 4,
 "nbformat_minor": 5
}
