{
 "cells": [
  {
   "cell_type": "markdown",
   "id": "60a83f1e-d773-44a3-8af5-317c00a93f8f",
   "metadata": {
    "tags": []
   },
   "source": [
    "# Preamble"
   ]
  },
  {
   "cell_type": "code",
   "execution_count": 2,
   "id": "40a874e6-f39e-4c4f-ae23-a217e01fbebb",
   "metadata": {},
   "outputs": [],
   "source": [
    "import os\n",
    "import json\n",
    "import h5py\n",
    "import argparse\n",
    "import pandas as pd\n",
    "import numpy as np\n",
    "import scipy.stats as stats\n",
    "from scipy.optimize import curve_fit\n",
    "from pprint import pprint\n",
    "import tinydb as db\n",
    "from tinydb.storages import MemoryStorage\n",
    "import pdb\n",
    "import pygama.utils as pgu\n",
    "\n",
    "import matplotlib\n",
    "# matplotlib.use('Agg') # when running on cori\n",
    "import matplotlib.pyplot as plt\n",
    "#plt.style.use('../clint.mpl')\n",
    "from matplotlib.colors import LogNorm\n",
    "\n",
    "from pygama import DataGroup\n",
    "import pygama.lh5 as lh5\n",
    "import pygama.analysis.histograms as pgh\n",
    "import pygama.analysis.peak_fitting as pgf\n",
    "import psd_analysis as psd\n",
    "\n",
    "import calibration_jdetwiler as cb\n",
    "\n",
    "\n",
    "dg = DataGroup('/global/homes/f/fnafis/krstc/krstc.json', load=True)\n",
    "    \n",
    "fontsize = 20  \n",
    "def draw_canvas(plt, fontsize=fontsize, xlabel='xlabel', ylabel='count', title='title'):\n",
    "    plt.figure(figsize=(20,16))\n",
    "    plt.xticks(fontsize=fontsize)\n",
    "    plt.yticks(fontsize=fontsize)\n",
    "    plt.xlabel(xlabel, fontsize=fontsize*1.5)\n",
    "    plt.ylabel(ylabel, fontsize=fontsize*1.5)\n",
    "    plt.legend(fontsize=fontsize)\n",
    "    plt.title(title, fontsize=fontsize*2)"
   ]
  },
  {
   "cell_type": "markdown",
   "id": "90807f01-3276-4360-b54b-c721e1db3761",
   "metadata": {
    "tags": []
   },
   "source": [
    "# dt histogram \n",
    "dt = time difference between successive events\n",
    "   = time difference between rise of waveforms of successive events"
   ]
  },
  {
   "cell_type": "code",
   "execution_count": 3,
   "id": "0120269d-f3e9-4e4e-a3a8-b7302fbc9db2",
   "metadata": {},
   "outputs": [
    {
     "name": "stdout",
     "output_type": "stream",
     "text": [
      "loading data for /global/cfs/cdirs/m2676/data/krstc/LH5/dsp/krstc_run3_cyc2040_dsp.lh5\n"
     ]
    },
    {
     "name": "stderr",
     "output_type": "stream",
     "text": [
      "<ipython-input-3-5a579b21d22f>:31: SettingWithCopyWarning: \n",
      "A value is trying to be set on a copy of a slice from a DataFrame\n",
      "\n",
      "See the caveats in the documentation: https://pandas.pydata.org/pandas-docs/stable/user_guide/indexing.html#returning-a-view-versus-a-copy\n",
      "  df_hit['dt'][i+1] = dt_clockticks/1e5 #converted to milliseconds\n",
      "No handles with labels found to put in legend.\n"
     ]
    },
    {
     "data": {
      "text/html": [
       "<div>\n",
       "<style scoped>\n",
       "    .dataframe tbody tr th:only-of-type {\n",
       "        vertical-align: middle;\n",
       "    }\n",
       "\n",
       "    .dataframe tbody tr th {\n",
       "        vertical-align: top;\n",
       "    }\n",
       "\n",
       "    .dataframe thead th {\n",
       "        text-align: right;\n",
       "    }\n",
       "</style>\n",
       "<table border=\"1\" class=\"dataframe\">\n",
       "  <thead>\n",
       "    <tr style=\"text-align: right;\">\n",
       "      <th></th>\n",
       "      <th>trapEmax</th>\n",
       "      <th>bl</th>\n",
       "      <th>bl_sig</th>\n",
       "      <th>A_10</th>\n",
       "      <th>timestamp</th>\n",
       "      <th>trapEmax_cal</th>\n",
       "      <th>dt</th>\n",
       "    </tr>\n",
       "  </thead>\n",
       "  <tbody>\n",
       "    <tr>\n",
       "      <th>0</th>\n",
       "      <td>422.138397</td>\n",
       "      <td>58089.277344</td>\n",
       "      <td>4.044410</td>\n",
       "      <td>28.733501</td>\n",
       "      <td>1360901</td>\n",
       "      <td>181.419724</td>\n",
       "      <td>0.00000</td>\n",
       "    </tr>\n",
       "    <tr>\n",
       "      <th>1</th>\n",
       "      <td>6.908443</td>\n",
       "      <td>58089.714844</td>\n",
       "      <td>4.010944</td>\n",
       "      <td>2.400633</td>\n",
       "      <td>2051748</td>\n",
       "      <td>2.870841</td>\n",
       "      <td>6.90847</td>\n",
       "    </tr>\n",
       "    <tr>\n",
       "      <th>2</th>\n",
       "      <td>165.633667</td>\n",
       "      <td>58088.406250</td>\n",
       "      <td>4.504540</td>\n",
       "      <td>11.215175</td>\n",
       "      <td>2394761</td>\n",
       "      <td>71.122688</td>\n",
       "      <td>3.43013</td>\n",
       "    </tr>\n",
       "    <tr>\n",
       "      <th>3</th>\n",
       "      <td>286.623230</td>\n",
       "      <td>58090.574219</td>\n",
       "      <td>4.227704</td>\n",
       "      <td>19.625355</td>\n",
       "      <td>3868273</td>\n",
       "      <td>123.148201</td>\n",
       "      <td>14.73512</td>\n",
       "    </tr>\n",
       "    <tr>\n",
       "      <th>4</th>\n",
       "      <td>3800.482422</td>\n",
       "      <td>58087.238281</td>\n",
       "      <td>3.894429</td>\n",
       "      <td>257.704346</td>\n",
       "      <td>6781069</td>\n",
       "      <td>1634.107788</td>\n",
       "      <td>29.12796</td>\n",
       "    </tr>\n",
       "    <tr>\n",
       "      <th>...</th>\n",
       "      <td>...</td>\n",
       "      <td>...</td>\n",
       "      <td>...</td>\n",
       "      <td>...</td>\n",
       "      <td>...</td>\n",
       "      <td>...</td>\n",
       "      <td>...</td>\n",
       "    </tr>\n",
       "    <tr>\n",
       "      <th>121957</th>\n",
       "      <td>152.856766</td>\n",
       "      <td>58090.839844</td>\n",
       "      <td>4.567903</td>\n",
       "      <td>5.508103</td>\n",
       "      <td>155373560179</td>\n",
       "      <td>65.628616</td>\n",
       "      <td>3.37783</td>\n",
       "    </tr>\n",
       "    <tr>\n",
       "      <th>121958</th>\n",
       "      <td>980.814819</td>\n",
       "      <td>58094.140625</td>\n",
       "      <td>4.172520</td>\n",
       "      <td>68.376511</td>\n",
       "      <td>155374198251</td>\n",
       "      <td>421.650574</td>\n",
       "      <td>6.38072</td>\n",
       "    </tr>\n",
       "    <tr>\n",
       "      <th>121959</th>\n",
       "      <td>2172.284180</td>\n",
       "      <td>58094.746094</td>\n",
       "      <td>4.151340</td>\n",
       "      <td>101.615524</td>\n",
       "      <td>155375870484</td>\n",
       "      <td>933.982422</td>\n",
       "      <td>16.72233</td>\n",
       "    </tr>\n",
       "    <tr>\n",
       "      <th>121960</th>\n",
       "      <td>173.211960</td>\n",
       "      <td>57997.730469</td>\n",
       "      <td>4.422466</td>\n",
       "      <td>12.112050</td>\n",
       "      <td>155375909558</td>\n",
       "      <td>74.381355</td>\n",
       "      <td>0.39074</td>\n",
       "    </tr>\n",
       "    <tr>\n",
       "      <th>121961</th>\n",
       "      <td>640.428406</td>\n",
       "      <td>58074.003906</td>\n",
       "      <td>4.568736</td>\n",
       "      <td>46.547974</td>\n",
       "      <td>155376143873</td>\n",
       "      <td>275.284424</td>\n",
       "      <td>2.34315</td>\n",
       "    </tr>\n",
       "  </tbody>\n",
       "</table>\n",
       "<p>121962 rows × 7 columns</p>\n",
       "</div>"
      ],
      "text/plain": [
       "           trapEmax            bl    bl_sig        A_10     timestamp  \\\n",
       "0        422.138397  58089.277344  4.044410   28.733501       1360901   \n",
       "1          6.908443  58089.714844  4.010944    2.400633       2051748   \n",
       "2        165.633667  58088.406250  4.504540   11.215175       2394761   \n",
       "3        286.623230  58090.574219  4.227704   19.625355       3868273   \n",
       "4       3800.482422  58087.238281  3.894429  257.704346       6781069   \n",
       "...             ...           ...       ...         ...           ...   \n",
       "121957   152.856766  58090.839844  4.567903    5.508103  155373560179   \n",
       "121958   980.814819  58094.140625  4.172520   68.376511  155374198251   \n",
       "121959  2172.284180  58094.746094  4.151340  101.615524  155375870484   \n",
       "121960   173.211960  57997.730469  4.422466   12.112050  155375909558   \n",
       "121961   640.428406  58074.003906  4.568736   46.547974  155376143873   \n",
       "\n",
       "        trapEmax_cal        dt  \n",
       "0         181.419724   0.00000  \n",
       "1           2.870841   6.90847  \n",
       "2          71.122688   3.43013  \n",
       "3         123.148201  14.73512  \n",
       "4        1634.107788  29.12796  \n",
       "...              ...       ...  \n",
       "121957     65.628616   3.37783  \n",
       "121958    421.650574   6.38072  \n",
       "121959    933.982422  16.72233  \n",
       "121960     74.381355   0.39074  \n",
       "121961    275.284424   2.34315  \n",
       "\n",
       "[121962 rows x 7 columns]"
      ]
     },
     "execution_count": 3,
     "metadata": {},
     "output_type": "execute_result"
    },
    {
     "data": {
      "image/png": "[encoded data removed]",
      "text/plain": [
       "<Figure size 1440x1152 with 1 Axes>"
      ]
     },
     "metadata": {
      "needs_background": "light"
     },
     "output_type": "display_data"
    }
   ],
   "source": [
    "beginning_cycle = 2019\n",
    "#cycle_range = [2028,2038, 'bkg'] #run 2\n",
    "cycle_range = [2040,2041, 'kry'] #run 3\n",
    "#cycle_range = [2028,2029, 'Run2'] #run 7\n",
    "\n",
    "\n",
    "lh5_dir = dg.lh5_dir\n",
    "dsp_list = lh5_dir + dg.fileDB['dsp_path'] + '/' + dg.fileDB['dsp_file']\n",
    "\n",
    "\n",
    "hit_list = dsp_list[cycle_range[0]-beginning_cycle:cycle_range[1]-beginning_cycle]\n",
    "\n",
    "#hit_list = dsp_list[2039-2019]\n",
    "'''\n",
    "columns in file:\n",
    "        ['trapE', 'bl', 'bl_sig', 'A_10', 'AoE', 'packet_id', 'ievt', 'energy',\n",
    "        'energy_first', 'timestamp', 'crate', 'card', 'channel', 'energy_cal',\n",
    "        'trapE_cal']'''\n",
    "\n",
    "\n",
    "df_hit = lh5.load_dfs(hit_list, ['trapEmax', 'bl', 'bl_sig', 'A_10', 'timestamp'], 'ORSIS3302DecoderForEnergy/dsp')\n",
    "#timestamp is in unit of 10ns.\n",
    "#current_pars = [0.4494, 0.1825]\n",
    "current_pars = [0.430, -0.09979]\n",
    "df_hit['trapEmax_cal'] = np.polyval(current_pars, df_hit['trapEmax'])\n",
    "\n",
    "#adding dt to the dataframe in unit of nanoseconds\n",
    "df_hit['dt']=0.0 #dt column will be in float\n",
    "for i in range(len(df_hit)-1):\n",
    "    dt_clockticks = (df_hit['timestamp'][i+1]-df_hit['timestamp'][i]) #clockticks\n",
    "    df_hit['dt'][i+1] = dt_clockticks/1e5 #converted to milliseconds\n",
    "    \n",
    "dt_n_bins = 100\n",
    "dt_hist, dt_bins, dt_var = pgh.get_hist(df_hit['dt'], bins=dt_n_bins)\n",
    "draw_canvas(plt, xlabel='dt (ms)', ylabel='count', title='hist of dt between events')\n",
    "pgh.plot_hist(dt_hist,dt_bins)\n",
    "plt.yscale('log')\n",
    "\n",
    "\n",
    "df_hit"
   ]
  },
  {
   "cell_type": "code",
   "execution_count": 4,
   "id": "d3659047-ae00-40f7-91bf-bfb0cba4ef81",
   "metadata": {},
   "outputs": [
    {
     "name": "stderr",
     "output_type": "stream",
     "text": [
      "No handles with labels found to put in legend.\n"
     ]
    },
    {
     "name": "stdout",
     "output_type": "stream",
     "text": [
      "total area =  193415.97450960003\n",
      "area = 160892.93614320006\n",
      "[-0.07424906  9.45409498]\n"
     ]
    },
    {
     "data": {
      "text/plain": [
       "<matplotlib.lines.Line2D at 0x2aaae4cf49d0>"
      ]
     },
     "execution_count": 4,
     "metadata": {},
     "output_type": "execute_result"
    },
    {
     "data": {
      "image/png": "[encoded data removed]",
      "text/plain": [
       "<Figure size 1440x1152 with 1 Axes>"
      ]
     },
     "metadata": {
      "needs_background": "light"
     },
     "output_type": "display_data"
    }
   ],
   "source": [
    "dt_range = [1,75] #milliseconds\n",
    "bin_range = np.digitize(dt_range, dt_bins)\n",
    "dt_bins_new = dt_bins[bin_range[0]:bin_range[1]+1]\n",
    "dt_hist_new = dt_hist[bin_range[0]:bin_range[1]]\n",
    "area = sum(np.diff(dt_bins_new)*dt_hist_new)\n",
    "print('total area = ',sum(np.diff(dt_bins)*dt_hist))\n",
    "print('area =',area)\n",
    "params = np.polyfit(dt_bins_new[:-1],np.log(dt_hist_new), deg=1)\n",
    "print(params)\n",
    "draw_canvas(plt, xlabel='dt (ms)', ylabel='count', title='hist of dt between events')\n",
    "pgh.plot_hist(dt_hist,dt_bins)\n",
    "plt.yscale('log')\n",
    "x = np.linspace(0,200)\n",
    "y = np.exp(x*params[0]+params[1])\n",
    "plt.plot(x,y)\n",
    "plt.axvline(dt_range[0], color='r')\n",
    "plt.axvline(dt_range[1], color='r')"
   ]
  },
  {
   "cell_type": "code",
   "execution_count": null,
   "id": "848cd3e4-04e4-4556-bc0a-f428e7b4193b",
   "metadata": {},
   "outputs": [],
   "source": [
    "cut_passed=0\n",
    "dt_cut_vals = []\n",
    "livetimes = []\n",
    "for dt_cut in np.arange(0,0.4,0.01):\n",
    "    livetime = 0\n",
    "    dt_cut_vals.append(dt_cut)\n",
    "    for i in range(len(df_hit)):\n",
    "        dt = df_hit['dt'][i]\n",
    "        if(dt>dt_cut):\n",
    "            cut_passed = cut_passed + 1\n",
    "            livetime = livetime + (dt-dt_cut) #so livetime in milliseconds\n",
    "    #livetime = livetime/(1000*60) #converted to mins\n",
    "    livetimes.append(livetime)\n",
    "    #print('cut passed: ',cut_passed)\n",
    "    #print('livetime: ',livetime)\n",
    "\n",
    "max_livetime = max(livetimes)\n",
    "percent_livetimes = livetimes/max_livetime*100\n",
    "draw_canvas(plt, xlabel='dt cut (ms)', ylabel='livetime (%)')\n",
    "plt.plot(dt_cut_vals, percent_livetimes)\n",
    "plt.grid()"
   ]
  },
  {
   "cell_type": "code",
   "execution_count": 8,
   "id": "12a7abb5-e9d6-4040-9c7b-6598ecf71db6",
   "metadata": {},
   "outputs": [
    {
     "name": "stderr",
     "output_type": "stream",
     "text": [
      "No handles with labels found to put in legend.\n"
     ]
    },
    {
     "data": {
      "image/png": "[encoded data removed]",
      "text/plain": [
       "<Figure size 1440x1152 with 2 Axes>"
      ]
     },
     "metadata": {
      "needs_background": "light"
     },
     "output_type": "display_data"
    }
   ],
   "source": [
    "ylabel = 'bl'\n",
    "#ylabel = 'trapEmax'\n",
    "draw_canvas(plt, xlabel='dt', ylabel=ylabel)\n",
    "h = plt.hist2d(df_hit['dt'], df_hit[ylabel], cmap='jet', \n",
    "               norm=matplotlib.colors.LogNorm(), bins=[50,50])\n",
    "\n",
    "colorbar = plt.colorbar(h[3], ax=plt.gca())"
   ]
  },
  {
   "cell_type": "markdown",
   "id": "8aefe205-1152-40e5-a99e-8190f607b04d",
   "metadata": {},
   "source": [
    "### Why is the time difference between events important?\n",
    "A: events happening too close to previous one will not have well defined baseline and also affect the topline (=trapEmax) of the previous one, that's why. Also infact these too close happening events make the topline slope down instead of staying constant."
   ]
  },
  {
   "cell_type": "markdown",
   "id": "2df356d8-9225-42bd-8082-80a335234b7b",
   "metadata": {},
   "source": [
    "### Energy spectrum for dt cuts"
   ]
  },
  {
   "cell_type": "code",
   "execution_count": 10,
   "id": "55066976-c7da-4736-afc3-f744338d9d0b",
   "metadata": {},
   "outputs": [
    {
     "name": "stderr",
     "output_type": "stream",
     "text": [
      "No handles with labels found to put in legend.\n"
     ]
    },
    {
     "data": {
      "text/plain": [
       "<matplotlib.legend.Legend at 0x2aaae5095e80>"
      ]
     },
     "execution_count": 10,
     "metadata": {},
     "output_type": "execute_result"
    },
    {
     "data": {
      "image/png": "[encoded data removed]",
      "text/plain": [
       "<Figure size 1440x1152 with 1 Axes>"
      ]
     },
     "metadata": {
      "needs_background": "light"
     },
     "output_type": "display_data"
    }
   ],
   "source": [
    "dt_cut_point = 0.4 #millisecond\n",
    "dt_cut_range = [dt_cut_point, max(df_hit['dt'])]\n",
    "dt_cut_ene_cal = df_hit[(df_hit['dt']>dt_cut_range[0]) & (df_hit['dt']<dt_cut_range[1])]\n",
    "etype='trapEmax_cal'\n",
    "\n",
    "elo = 0\n",
    "ehi = 4000\n",
    "\n",
    "n_bins = 4000*5\n",
    "\n",
    "kev_per_bin = (ehi-elo)/n_bins\n",
    "\n",
    "draw_canvas(plt, xlabel=etype+', '+ str(kev_per_bin)+' kev/bin', ylabel='count', title=cycle_range[2]+', dt_cut=['+\n",
    "      str(dt_cut_range[0])+','+ str(dt_cut_range[1])+']')\n",
    "\n",
    "\n",
    "\n",
    "h1, x1, v1 = pgh.get_hist(df_hit[etype], range=(elo, ehi), bins=n_bins)\n",
    "#x1 = x1[2:]\n",
    "pgh.plot_hist(h1, x1, c='k', lw=1, label='raw')\n",
    "plt.yscale('log')\n",
    "\n",
    "\n",
    "h2, x2, v2 = pgh.get_hist(dt_cut_ene_cal['trapEmax_cal'], range=(elo, ehi), bins=n_bins)\n",
    "pgh.plot_hist(h2,x2, color='r', label='with dt cut='+str(dt_cut_point)+' ms')\n",
    "plt.yscale('log')\n",
    "plt.xlim(0,50)\n",
    "\n",
    "plt.legend(fontsize=fontsize)"
   ]
  },
  {
   "cell_type": "markdown",
   "id": "fe14ea70-cddd-492c-b22b-3452f21ed5e5",
   "metadata": {
    "tags": []
   },
   "source": [
    "### fitting gauss(mu,sigma,A) + [bkg] + step[x1,x2]"
   ]
  },
  {
   "cell_type": "code",
   "execution_count": 11,
   "id": "6b84ac0c-0a70-4f29-a586-0d2656a360c6",
   "metadata": {
    "tags": []
   },
   "outputs": [],
   "source": [
    "def goodness_of_fit(hist, bins, var, func, pars, method='var'):\n",
    "    \"\"\" Compute chisq and dof of fit\n",
    "\n",
    "    Parameters\n",
    "    ----------\n",
    "    hist, bins, var : array, array, array or None\n",
    "        histogram data. var can be None if hist is integer counts\n",
    "    func : function\n",
    "        the function that was fit to the hist\n",
    "    pars : array\n",
    "        the best-fit pars of func. Assumes all pars are free parameters\n",
    "    method : str\n",
    "        Sets the choice of \"denominator\" in the chi2 sum\n",
    "        'var': user passes in the variances in var (must not have zeros)\n",
    "        'Pearson': use func (hist must contain integer counts)\n",
    "        'Neyman': use hist (hist must contain integer counts and no zeros)\n",
    "\n",
    "    Returns\n",
    "    -------\n",
    "    chisq : float\n",
    "        the summed up value of chisquared\n",
    "    dof : int\n",
    "        the number of degrees of freedom\n",
    "    \"\"\"\n",
    "    # arg checks\n",
    "    if method == 'var':\n",
    "        if var is None:\n",
    "            print(\"goodness_of_fit: var must be non-None to use method 'var'\")\n",
    "            return 0, 0\n",
    "        if np.any(var==0):\n",
    "            print(\"goodness_of_fit: var cannot contain zeros\")\n",
    "            return 0, 0\n",
    "    if method == 'Neyman' and np.any(hist==0):\n",
    "        print(\"goodness_of_fit: hist cannot contain zeros for Neyman method\")\n",
    "        return 0, 0\n",
    "\n",
    "    # compute chi2 numerator and denominator\n",
    "    \n",
    "    yy = func(pgh.get_bin_centers(bins), *pars)\n",
    "    numerator = (hist - yy)**2\n",
    "    if method == 'var':\n",
    "        denominator = var\n",
    "    elif method == 'Pearson':\n",
    "        denominator = yy\n",
    "    elif method == 'Neyman':\n",
    "        denominator = hist\n",
    "    else:\n",
    "        print(f\"goodness_of_fit: unknown method {method}\")\n",
    "        return 0, 0\n",
    "\n",
    "    # compute chi2 and dof \n",
    "    chisq = np.sum(numerator/denominator)\n",
    "    dof = len(hist) - len(pars)\n",
    "    return chisq, dof"
   ]
  },
  {
   "cell_type": "code",
   "execution_count": 12,
   "id": "d85bae7e-74b6-43cb-be9f-3899de6adf56",
   "metadata": {},
   "outputs": [
    {
     "name": "stdout",
     "output_type": "stream",
     "text": [
      "[7001 7501]\n"
     ]
    },
    {
     "name": "stderr",
     "output_type": "stream",
     "text": [
      "<ipython-input-12-919fdf6dce46>:36: RuntimeWarning: invalid value encountered in true_divide\n",
      "  imax, imin = cb.get_i_local_extrema(fitting_hist/np.sqrt(fitting_var), n_sigma)\n"
     ]
    },
    {
     "ename": "IndexError",
     "evalue": "arrays used as indices must be of integer (or boolean) type",
     "output_type": "error",
     "traceback": [
      "\u001b[0;31m---------------------------------------------------------------------------\u001b[0m",
      "\u001b[0;31mIndexError\u001b[0m                                Traceback (most recent call last)",
      "\u001b[0;32m<ipython-input-12-919fdf6dce46>\u001b[0m in \u001b[0;36m<module>\u001b[0;34m\u001b[0m\n\u001b[1;32m     98\u001b[0m     \u001b[0;32mreturn\u001b[0m \u001b[0mpars\u001b[0m\u001b[0;34m,\u001b[0m \u001b[0mcovs\u001b[0m\u001b[0;34m,\u001b[0m \u001b[0mchisquare_per_dof\u001b[0m\u001b[0;34m\u001b[0m\u001b[0;34m\u001b[0m\u001b[0m\n\u001b[1;32m     99\u001b[0m \u001b[0;34m\u001b[0m\u001b[0m\n\u001b[0;32m--> 100\u001b[0;31m pars, covs, chi2_per_dof = fit_gauss_bkg_step(df_hit=df_hit, dt_cut_point=0.4, \n\u001b[0m\u001b[1;32m    101\u001b[0m                                               \u001b[0mverbose\u001b[0m\u001b[0;34m=\u001b[0m\u001b[0;32mTrue\u001b[0m\u001b[0;34m,\u001b[0m \u001b[0mplot\u001b[0m\u001b[0;34m=\u001b[0m\u001b[0;32mTrue\u001b[0m\u001b[0;34m,\u001b[0m\u001b[0;34m\u001b[0m\u001b[0;34m\u001b[0m\u001b[0m\n\u001b[1;32m    102\u001b[0m                    \u001b[0mguessed_params\u001b[0m\u001b[0;34m=\u001b[0m\u001b[0;34m(\u001b[0m\u001b[0;36m1460.0\u001b[0m\u001b[0;34m,\u001b[0m \u001b[0;36m1.0\u001b[0m\u001b[0;34m,\u001b[0m \u001b[0;36m110\u001b[0m\u001b[0;34m,\u001b[0m \u001b[0;36m5\u001b[0m\u001b[0;34m,\u001b[0m \u001b[0;34m-\u001b[0m\u001b[0;36m15\u001b[0m\u001b[0;34m)\u001b[0m\u001b[0;34m,\u001b[0m\u001b[0;34m\u001b[0m\u001b[0;34m\u001b[0m\u001b[0m\n",
      "\u001b[0;32m<ipython-input-12-919fdf6dce46>\u001b[0m in \u001b[0;36mfit_gauss_bkg_step\u001b[0;34m(df_hit, ene_range, dt_cut_point, etype, plot, verbose, fitting_ene_range, guessed_params, poissonLL)\u001b[0m\n\u001b[1;32m     35\u001b[0m     \u001b[0mn_sigma\u001b[0m \u001b[0;34m=\u001b[0m \u001b[0;36m5\u001b[0m\u001b[0;34m\u001b[0m\u001b[0;34m\u001b[0m\u001b[0m\n\u001b[1;32m     36\u001b[0m     \u001b[0mimax\u001b[0m\u001b[0;34m,\u001b[0m \u001b[0mimin\u001b[0m \u001b[0;34m=\u001b[0m \u001b[0mcb\u001b[0m\u001b[0;34m.\u001b[0m\u001b[0mget_i_local_extrema\u001b[0m\u001b[0;34m(\u001b[0m\u001b[0mfitting_hist\u001b[0m\u001b[0;34m/\u001b[0m\u001b[0mnp\u001b[0m\u001b[0;34m.\u001b[0m\u001b[0msqrt\u001b[0m\u001b[0;34m(\u001b[0m\u001b[0mfitting_var\u001b[0m\u001b[0;34m)\u001b[0m\u001b[0;34m,\u001b[0m \u001b[0mn_sigma\u001b[0m\u001b[0;34m)\u001b[0m\u001b[0;34m\u001b[0m\u001b[0;34m\u001b[0m\u001b[0m\n\u001b[0;32m---> 37\u001b[0;31m     \u001b[0;32mif\u001b[0m \u001b[0mverbose\u001b[0m\u001b[0;34m:\u001b[0m \u001b[0mprint\u001b[0m\u001b[0;34m(\u001b[0m\u001b[0;34m'Max at: '\u001b[0m\u001b[0;34m,\u001b[0m\u001b[0mfitting_bins\u001b[0m\u001b[0;34m[\u001b[0m\u001b[0mimax\u001b[0m\u001b[0;34m]\u001b[0m\u001b[0;34m)\u001b[0m\u001b[0;34m\u001b[0m\u001b[0;34m\u001b[0m\u001b[0m\n\u001b[0m\u001b[1;32m     38\u001b[0m     \u001b[0;32mif\u001b[0m \u001b[0mverbose\u001b[0m\u001b[0;34m:\u001b[0m \u001b[0mprint\u001b[0m\u001b[0;34m(\u001b[0m\u001b[0mlen\u001b[0m\u001b[0;34m(\u001b[0m\u001b[0mfitting_bins\u001b[0m\u001b[0;34m)\u001b[0m\u001b[0;34m)\u001b[0m\u001b[0;34m\u001b[0m\u001b[0;34m\u001b[0m\u001b[0m\n\u001b[1;32m     39\u001b[0m     \u001b[0mfitting_bin_centers\u001b[0m \u001b[0;34m=\u001b[0m \u001b[0mpgh\u001b[0m\u001b[0;34m.\u001b[0m\u001b[0mget_bin_centers\u001b[0m\u001b[0;34m(\u001b[0m\u001b[0mfitting_bins\u001b[0m\u001b[0;34m)\u001b[0m\u001b[0;34m\u001b[0m\u001b[0;34m\u001b[0m\u001b[0m\n",
      "\u001b[0;31mIndexError\u001b[0m: arrays used as indices must be of integer (or boolean) type"
     ]
    }
   ],
   "source": [
    "def fitting_func(x,mu, sigma, height=1, bkg=0, step_factor=-15):\n",
    "    gaussian = height * np.exp(-(x - mu)**2 / (2. * sigma**2)) + bkg + step_factor*np.heaviside((x-mu), 1)\n",
    "    return gaussian\n",
    "\n",
    "def fit_gauss_bkg_step(df_hit=df_hit, ene_range=[0,4000], dt_cut_point=0.4, etype='trapEmax_cal', \n",
    "                      plot=False, verbose=False, fitting_ene_range=[1400,1500], \n",
    "                      guessed_params=(1460.0, 1.0, 110, 5, -15), poissonLL=False):\n",
    "    \n",
    "    #dt_cut_point = 0.4 #millisecond\n",
    "    dt_cut_range = [dt_cut_point, max(df_hit['dt'])]\n",
    "    dt_cut_ene_cal = df_hit[(df_hit['dt']>dt_cut_range[0]) & (df_hit['dt']<dt_cut_range[1])]\n",
    "    #etype='trapEmax_cal'\n",
    "    #draw_canvas(plt, xlabel='trapEmax', ylabel='count', title=cycle_range[2]+', dt_cut=['+\n",
    "          #str(dt_cut_range[0])+','+ str(dt_cut_range[1])+']')\n",
    "\n",
    "    elo = ene_range[0]\n",
    "    ehi = ene_range[1]\n",
    "\n",
    "    n_bins = (ehi-elo)*5\n",
    "\n",
    "    kev_per_bin = (ehi-elo)/n_bins\n",
    "\n",
    "\n",
    "    h2, x2, v2 = pgh.get_hist(dt_cut_ene_cal[etype], range=(elo, ehi), \n",
    "                              bins=n_bins)\n",
    "\n",
    "    #fitting_ene_range = [1400,1500]\n",
    "    fitting_bin_range = np.digitize(fitting_ene_range, x2)\n",
    "    if verbose: print(fitting_bin_range)\n",
    "\n",
    "    fitting_hist = h2[fitting_bin_range[0]:fitting_bin_range[1]]\n",
    "    fitting_bins = x2[fitting_bin_range[0]:fitting_bin_range[1]+1]\n",
    "    fitting_var = v2[fitting_bin_range[0]:fitting_bin_range[1]]\n",
    "\n",
    "    n_sigma = 5\n",
    "    imax, imin = cb.get_i_local_extrema(fitting_hist/np.sqrt(fitting_var), n_sigma)\n",
    "    if verbose: print('Max at: ',fitting_bins[imax])\n",
    "    if verbose: print(len(fitting_bins))\n",
    "    fitting_bin_centers = pgh.get_bin_centers(fitting_bins)\n",
    "\n",
    "\n",
    "    '''\n",
    "    pt_pars, pt_covs = cb.hpge_fit_E_peak_tops(fitting_hist, fitting_bins, fitting_var, [356.5],\n",
    "                                               n_to_fit=n_sigma, poissonLL=[False])\n",
    "\n",
    "    fitting_sigma = pt_pars[0][1]\n",
    "    print('pt_pars: ', pt_pars)\n",
    "    '''\n",
    "    #pars, covs = curve_fit(fitting_func, fitting_bins, fitting_hist)\n",
    "    #guessed_params = (1460.0, 1.0, 110, 5, -15)\n",
    "    pars, covs = pgf.fit_hist(fitting_func, fitting_hist, fitting_bins, fitting_var, \n",
    "                              guess=guessed_params, poissonLL=poissonLL)\n",
    "    if verbose: print('pars:',pars)\n",
    "\n",
    "    if plot==True:\n",
    "        draw_canvas(plt, xlabel=etype+', '+ str(kev_per_bin)+' kev/bin', ylabel='count', title=cycle_range[2]+', dt_cut=['+\n",
    "          str(dt_cut_range[0])+','+ str(dt_cut_range[1])+']')\n",
    "\n",
    "    h1, x1, v1 = pgh.get_hist(df_hit[etype], range=(elo, ehi), bins=n_bins)\n",
    "    print(h1[0:5],v1[0:5])\n",
    "    #x1 = x1[2:]\n",
    "    if plot==True:\n",
    "        pgh.plot_hist(h1, x1, c='k', lw=1, label='raw')\n",
    "        plt.yscale('log')\n",
    "        pgh.plot_hist(h2,x2, color='r', label='with dt cut='+str(dt_cut_point)+' ms')\n",
    "        plt.yscale('log')\n",
    "        plt.xlim(fitting_ene_range[0],fitting_ene_range[1])\n",
    "        #pgu.plot_func(fitting_func, pars, range=(fitting_ene_range[0],fitting_ene_range[1]), label='Gauss+bkg+step')\n",
    "        pgu.plot_func(fitting_func, pars, range=(fitting_ene_range[0],fitting_ene_range[1]),\n",
    "                 label='Gauss+bkg+step')\n",
    "    #calculating chi square\n",
    "    #x = np.arange(355,358,0.1)\n",
    "    fitting_bin_centers = pgh.get_bin_centers(fitting_bins)\n",
    "    '''\n",
    "    chisquare = stats.chisquare(fitting_hist, \n",
    "                                f_exp=fitting_func(fitting_bin_centers, *pars))[0]\n",
    "    print(chisquare)\n",
    "    chisquare = 0.0\n",
    "    chisquare2 = 0.0\n",
    "    for i, j in enumerate(range(len(fitting_bin_centers))):\n",
    "        a = fitting_hist[j]\n",
    "        b = fitting_func(fitting_bin_centers[j], *pars)\n",
    "        #error = np.sqrt(Ba_var[j])\n",
    "        chisquare = chisquare + ((a-b)**2)/fitting_var[j]\n",
    "        chisquare2 = chisquare2 + ((a-b)**2)/b\n",
    "        if i < 10:\n",
    "            print(i, j, chisquare, chisquare2)\n",
    "\n",
    "    dof = len(fitting_bin_centers)-1-2\n",
    "    chisquare_per_dof = chisquare/dof\n",
    "    '''\n",
    "    chisqaure, dof = goodness_of_fit(fitting_hist, fitting_bins, fitting_var, \n",
    "                                  fitting_func, pars, method='Pearson')\n",
    "    chisquare_per_dof = chisqaure/dof\n",
    "    if verbose: print('chi2/dof=',chisquare_per_dof)\n",
    "    if plot==True:\n",
    "        plt.legend(fontsize=20)\n",
    "    return pars, covs, chisquare_per_dof\n",
    "    \n",
    "pars, covs, chi2_per_dof = fit_gauss_bkg_step(df_hit=df_hit, dt_cut_point=0.4, \n",
    "                                              verbose=True, plot=True, \n",
    "                   guessed_params=(1460.0, 1.0, 110, 5, -15),\n",
    "                   fitting_ene_range=[1400,1500], poissonLL=False)\n",
    "print(covs)"
   ]
  },
  {
   "cell_type": "code",
   "execution_count": null,
   "id": "031d9665-8054-4814-a72d-6b5cc9654931",
   "metadata": {},
   "outputs": [],
   "source": [
    "new_guessed_params = (pars[0],pars[1],pars[2], pars[3], pars[4])\n",
    "fit_gauss_bkg_step(df_hit=df_hit, dt_cut_point=0.4, \n",
    "                                              verbose=True, plot=True, \n",
    "                   guessed_params=new_guessed_params,\n",
    "                   fitting_ene_range=[1400,1500], poissonLL=False)"
   ]
  },
  {
   "cell_type": "code",
   "execution_count": null,
   "id": "56b15946-9842-4f1c-8710-3c8764bc63a4",
   "metadata": {},
   "outputs": [],
   "source": [
    "dt_cuts = []\n",
    "chisquare_per_dofs = []\n",
    "for i in np.arange(0,1,0.05):\n",
    "    dt_cut_point = i #millisecond\n",
    "    dt_cuts.append(dt_cut_point)\n",
    "    dt_cut_range = [dt_cut_point, max(df_hit['dt'])]\n",
    "    dt_cut_ene_cal = df_hit[(df_hit['dt']>dt_cut_range[0]) & (df_hit['dt']<dt_cut_range[1])]\n",
    "    etype='trapEmax_cal'\n",
    "    #draw_canvas(plt, xlabel='trapEmax', ylabel='count', title=cycle_range[2]+', dt_cut=['+\n",
    "          #str(dt_cut_range[0])+','+ str(dt_cut_range[1])+']')\n",
    "\n",
    "    elo = 0\n",
    "    ehi = 4000\n",
    "\n",
    "    n_bins = 4000*5\n",
    "\n",
    "    kev_per_bin = (ehi-elo)/n_bins\n",
    "\n",
    "\n",
    "    h2, x2, v2 = pgh.get_hist(dt_cut_ene_cal['trapEmax_cal'], range=(elo, ehi), \n",
    "                              bins=n_bins)\n",
    "\n",
    "    fitting_ene_range = [1400,1500]\n",
    "    fitting_bin_range = np.digitize(fitting_ene_range, x2)\n",
    "    #print(fitting_bin_range)\n",
    "\n",
    "    fitting_hist = h2[fitting_bin_range[0]:fitting_bin_range[1]]\n",
    "    fitting_bins = x2[fitting_bin_range[0]:fitting_bin_range[1]+1]\n",
    "    fitting_var = v2[fitting_bin_range[0]:fitting_bin_range[1]]\n",
    "\n",
    "    n_sigma = 5\n",
    "    imax, imin = cb.get_i_local_extrema(fitting_hist/np.sqrt(fitting_var), n_sigma)\n",
    "    #print('Max at: ',fitting_bins[imax])\n",
    "    #print(len(fitting_bins))\n",
    "    fitting_bin_centers = pgh.get_bin_centers(fitting_bins)\n",
    "\n",
    "\n",
    "    '''\n",
    "    pt_pars, pt_covs = cb.hpge_fit_E_peak_tops(fitting_hist, fitting_bins, fitting_var, [356.5],\n",
    "                                               n_to_fit=n_sigma, poissonLL=[False])\n",
    "\n",
    "    fitting_sigma = pt_pars[0][1]\n",
    "    print('pt_pars: ', pt_pars)\n",
    "    '''\n",
    "    #pars, covs = curve_fit(fitting_func, fitting_bins, fitting_hist)\n",
    "    guessed_params = (1460.0, 1.0, 110, 5, -15)\n",
    "    pars, covs = pgf.fit_hist(fitting_func, fitting_hist, fitting_bins, fitting_var, \n",
    "                              guess=guessed_params)\n",
    "    #print('pars:',pars)\n",
    "\n",
    "    #draw_canvas(plt, xlabel=etype+', '+ str(kev_per_bin)+' kev/bin', ylabel='count', title=cycle_range[2]+', dt_cut=['+\n",
    "          #str(dt_cut_range[0])+','+ str(dt_cut_range[1])+']')\n",
    "\n",
    "    h1, x1, v1 = pgh.get_hist(df_hit[etype], range=(elo, ehi), bins=n_bins)\n",
    "    #x1 = x1[2:]\n",
    "    #pgh.plot_hist(h1, x1, c='k', lw=1, label='raw')\n",
    "    #plt.yscale('log')\n",
    "\n",
    "\n",
    "    #pgh.plot_hist(h2,x2, color='r', label='with dt cut='+str(dt_cut_point)+' ms')\n",
    "    #plt.yscale('log')\n",
    "    #plt.xlim(335,365)\n",
    "    #pgu.plot_func(fitting_func, pars, range=(fitting_ene_range[0],fitting_ene_range[1]), label='Gauss+bkg+step')\n",
    "    #pgu.plot_func(fitting_func, pars, range=(335,365),\n",
    "                 #label='Gauss+bkg+step')\n",
    "    #calculating chi square\n",
    "    #x = np.arange(355,358,0.1)\n",
    "    fitting_bin_centers = pgh.get_bin_centers(fitting_bins)\n",
    "    '''\n",
    "    chisquare = stats.chisquare(fitting_hist, \n",
    "                                f_exp=fitting_func(fitting_bin_centers, *pars))[0]\n",
    "    print(chisquare)\n",
    "    chisquare = 0.0\n",
    "    chisquare2 = 0.0\n",
    "    for i, j in enumerate(range(len(fitting_bin_centers))):\n",
    "        a = fitting_hist[j]\n",
    "        b = fitting_func(fitting_bin_centers[j], *pars)\n",
    "        #error = np.sqrt(Ba_var[j])\n",
    "        chisquare = chisquare + ((a-b)**2)/fitting_var[j]\n",
    "        chisquare2 = chisquare2 + ((a-b)**2)/b\n",
    "        if i < 10:\n",
    "            print(i, j, chisquare, chisquare2)\n",
    "\n",
    "    dof = len(fitting_bin_centers)-1-2\n",
    "    chisquare_per_dof = chisquare/dof\n",
    "    '''\n",
    "    chisqaure, dof = goodness_of_fit(fitting_hist, fitting_bins, fitting_var, \n",
    "                                  fitting_func, pars, method='Pearson')\n",
    "    chisquare_per_dof = chisqaure/dof\n",
    "    chisquare_per_dofs.append(chisquare_per_dof)\n",
    "    #print('chi2/dof=',chisquare_per_dof)\n",
    "    #plt.legend(fontsize=20)\n",
    "print(\"\\n\".join(\"{} {}\".format(x, y) for x, y in zip(dt_cuts, chisquare_per_dofs)))\n",
    "draw_canvas(plt, xlabel='dt cuts (ms)', ylabel='chi2/dof')\n",
    "plt.plot(dt_cuts, chisquare_per_dofs)"
   ]
  },
  {
   "cell_type": "markdown",
   "id": "c6d2c1f7-10d8-4396-8a59-45391d261062",
   "metadata": {},
   "source": [
    "# Pole-zero correction"
   ]
  },
  {
   "cell_type": "code",
   "execution_count": null,
   "id": "d42486d6-2a5e-4889-acce-2e59f26aa097",
   "metadata": {
    "tags": []
   },
   "outputs": [],
   "source": [
    "def exp_decay_func(x,A,tau, C):\n",
    "    return A*np.exp(-x/tau)+C\n",
    "\n",
    "raw_list = dg.lh5_dir + dg.fileDB['raw_path']+'/'+dg.fileDB['raw_file']\n",
    "f_raw = raw_list[9]\n",
    "print(f_raw)\n",
    "raw_store = lh5.Store()\n",
    "tb_name = 'ORSIS3302DecoderForEnergy/raw'\n",
    "data_raw, nrows = raw_store.read_object(tb_name, f_raw)\n",
    "bulk_wfs = data_raw['waveform']['values'].nda\n",
    "\n",
    "wf = bulk_wfs[1]\n",
    "clockticks = np.arange(0, bulk_wfs.shape[1], 1)\n",
    "time = clockticks/100 #in us\n",
    "draw_canvas(plt, xlabel='time (us)', ylabel='ADC')\n",
    "plt.plot(time, wf)\n",
    "\n",
    "max_index = np.argmax(wf)+200\n",
    "last_index = len(wf)-100\n",
    "extra = 3000\n",
    "decay_part_of_wf = wf[max_index:last_index]\n",
    "decay_part_of_time = time[max_index:last_index+1]\n",
    "len(decay_part_of_wf)\n",
    "\n",
    "\n",
    "pars, covs = pgf.fit_hist(exp_decay_func, decay_part_of_wf, decay_part_of_time, \n",
    "                          guess = (50,50, 58080))\n",
    "#pars, covs = curve_fit(exp_decay_func, time, wf)\n",
    "print(pars)\n",
    "\n",
    "\n",
    "plt.plot(decay_part_of_time, pars[0]*np.exp(-decay_part_of_time/pars[1])+pars[2], color='r')"
   ]
  },
  {
   "cell_type": "code",
   "execution_count": null,
   "id": "143a0c99-c9c7-43ab-b726-ff807ba613b8",
   "metadata": {},
   "outputs": [],
   "source": [
    "np.argmax(wf)"
   ]
  },
  {
   "cell_type": "code",
   "execution_count": null,
   "id": "a2b8b524-f42a-432b-b5aa-16b4243ec09b",
   "metadata": {},
   "outputs": [],
   "source": [
    "len(bulk_wfs)"
   ]
  },
  {
   "cell_type": "code",
   "execution_count": null,
   "id": "7e13dce4-f825-4321-baf9-56f276164a56",
   "metadata": {},
   "outputs": [],
   "source": [
    "time_constants = []\n",
    "trapEmax_cals = []\n",
    "for i in range(100):\n",
    "    if i%1000==0: print(i)\n",
    "    trapEmax_cal = df_hit['trapEmax_cal'][i]\n",
    "    if (trapEmax_cal>500 and trapEmax_cal<3500):\n",
    "        try:\n",
    "            \n",
    "            wf = bulk_wfs[i]\n",
    "            clockticks = np.arange(0, bulk_wfs.shape[1], 1)\n",
    "            time = clockticks/100\n",
    "            max_index = np.argmax(wf)+200\n",
    "            last_index = len(wf)-200\n",
    "            extra = 3000\n",
    "            decay_part_of_wf = wf[max_index:last_index]\n",
    "            decay_part_of_time = time[max_index:last_index+1]\n",
    "\n",
    "\n",
    "\n",
    "            pars, covs = pgf.fit_hist(exp_decay_func, decay_part_of_wf, decay_part_of_time, guess = (50,50, 58080))\n",
    "            #pars, covs = curve_fit(exp_decay_func, time, wf)\n",
    "            #print(pars[1])\n",
    "            time_constants.append(pars[1])\n",
    "            trapEmax_cals.append(trapEmax_cal)\n",
    "\n",
    "\n",
    "            print(trapEmax_cals[i],time_constants[i])\n",
    "\n",
    "        except:\n",
    "            pass\n",
    "\n",
    "\n",
    "    #plt.plot(decay_part_of_time, pars[0]*np.exp(-decay_part_of_time/pars[1])+pars[2], color='r')\n",
    "draw_canvas(plt, xlabel='trapEmax_cal',ylabel='time_constants')\n",
    "plt.plot(trapEmax_cals,time_constants, linestyle='None', marker='o')\n",
    "plt.ylim(-100,100)"
   ]
  },
  {
   "cell_type": "code",
   "execution_count": null,
   "id": "aa5e02a6-0d66-468e-baf9-6818b535a1ec",
   "metadata": {},
   "outputs": [],
   "source": [
    "len(trapEmax_cals)"
   ]
  },
  {
   "cell_type": "code",
   "execution_count": null,
   "id": "d68b03d4-0817-413c-b53b-b84ff9e5b39a",
   "metadata": {},
   "outputs": [],
   "source": [
    "len(time_constants)"
   ]
  },
  {
   "cell_type": "code",
   "execution_count": null,
   "id": "60599164-a2fe-484e-9322-7d25245e3939",
   "metadata": {},
   "outputs": [],
   "source": []
  },
  {
   "cell_type": "code",
   "execution_count": null,
   "id": "b62dfed2-5729-40ee-a04f-040c47b5b494",
   "metadata": {},
   "outputs": [],
   "source": [
    "a=[1,3,6,3,4]\n",
    "#np.where(a>3)[0]\n",
    "#a=np.delete(a,[1,2])\n",
    "type(a)\n",
    "\n",
    "a\n",
    "def find_indices(lst, condition):\n",
    "    return [i for i, elem in enumerate(lst) if condition(elem)]\n",
    "find_indices(a,lambda e: e>3)"
   ]
  },
  {
   "cell_type": "code",
   "execution_count": null,
   "id": "a797f6d4-d1ee-4015-90bc-dc6112e3365e",
   "metadata": {},
   "outputs": [],
   "source": [
    "def delete_multiple_element(list_object, indices):\n",
    "    indices = sorted(indices, reverse=True)\n",
    "    for idx in indices:\n",
    "        if idx < len(list_object):\n",
    "            list_object.pop(idx)\n",
    "\n",
    "            \n",
    "ind = [0,2]\n",
    "delete_multiple_element(a,ind)\n",
    "a"
   ]
  },
  {
   "cell_type": "code",
   "execution_count": null,
   "id": "b99f02b2-9be5-486b-8e45-5ef9be57239e",
   "metadata": {},
   "outputs": [],
   "source": [
    "indices_to_delete = find_indices(time_constants, lambda e:(e<0 and e>1000))\n",
    "delete_multiple_element(time_constants,indices_to_delete)\n",
    "delete_multiple_element(trapEmax_cals, indices_to_delete)\n",
    "plt.plot(trapEmax_cals, time_constants)"
   ]
  },
  {
   "cell_type": "code",
   "execution_count": null,
   "id": "f78e7045-6aa2-493b-b081-b8254b1b785b",
   "metadata": {},
   "outputs": [],
   "source": [
    "data_raw['waveform']['values'].nda[3]"
   ]
  },
  {
   "cell_type": "code",
   "execution_count": null,
   "id": "8cbb723b-bdca-4ae5-95cb-72f8454b51db",
   "metadata": {},
   "outputs": [],
   "source": [
    "df_hit['trapEmax_cal'][30]"
   ]
  }
 ],
 "metadata": {
  "kernelspec": {
   "display_name": "legend-software",
   "language": "python",
   "name": "legend-software"
  },
  "language_info": {
   "codemirror_mode": {
    "name": "ipython",
    "version": 3
   },
   "file_extension": ".py",
   "mimetype": "text/x-python",
   "name": "python",
   "nbconvert_exporter": "python",
   "pygments_lexer": "ipython3",
   "version": "3.8.8"
  }
 },
 "nbformat": 4,
 "nbformat_minor": 5
}
